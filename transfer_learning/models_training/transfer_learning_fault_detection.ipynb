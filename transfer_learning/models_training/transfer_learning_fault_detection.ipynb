{
 "cells": [
  {
   "cell_type": "code",
   "execution_count": 102,
   "id": "comfortable-confirmation",
   "metadata": {},
   "outputs": [],
   "source": [
    "import tensorflow as tf\n",
    "from tensorflow import keras\n",
    "from tensorflow.keras.preprocessing.image import ImageDataGenerator\n",
    "from tensorflow.keras import Model\n",
    "\n",
    "import os\n",
    "from tqdm import tqdm\n",
    "from skimage.io import imread, imshow\n",
    "from skimage.transform import resize\n",
    "\n",
    "from tensorflow.keras.utils import plot_model, to_categorical\n",
    "\n",
    "import matplotlib.pyplot as plt\n",
    "from tensorflow.keras.applications.vgg16 import VGG16, preprocess_input\n",
    "from tensorflow.keras.applications.inception_v3 import InceptionV3\n",
    "from tensorflow.keras.optimizers import SGD\n",
    "import seaborn as sns\n",
    "from sklearn.metrics import confusion_matrix\n",
    "import numpy as np\n",
    "from PIL import Image"
   ]
  },
  {
   "cell_type": "code",
   "execution_count": 15,
   "id": "olive-packing",
   "metadata": {},
   "outputs": [
    {
     "name": "stdout",
     "output_type": "stream",
     "text": [
      "2 Physical GPUs, 1 Logical GPUs\n"
     ]
    }
   ],
   "source": [
    "gpu = tf.config.list_physical_devices('GPU')[0]\n",
    "try:\n",
    "    tf.config.experimental.set_memory_growth(gpu, True)\n",
    "    logical_gpus = tf.config.experimental.list_logical_devices('GPU')\n",
    "    print(len(gpu), \"Physical GPUs,\", len(logical_gpus), \"Logical GPUs\")\n",
    "except RuntimeError as e:\n",
    "    print(e)\n",
    "    \n",
    "# Random seed\n",
    "seed = 54\n",
    "np.random.seed(seed)\n",
    "tf.random.set_seed(seed)"
   ]
  },
  {
   "cell_type": "code",
   "execution_count": 16,
   "id": "assumed-links",
   "metadata": {},
   "outputs": [],
   "source": [
    "##############################################################################\n",
    "######################  Declaración de variables #############################\n",
    "##############################################################################\n",
    "\n",
    "# Semilla de números alearorios \n",
    "seed = 45\n",
    "np.random.seed(seed)\n",
    "\n",
    "# Dimensiones de las imagenes RGB.\n",
    "IMG_WIDTH = 200\n",
    "IMG_HEIGHT = 200\n",
    "IMG_CHANNELS = 3\n",
    "\n",
    "##############################################################################\n",
    "############################  Path Base  #####################################\n",
    "##############################################################################\n",
    "\n",
    "BASE_PATH = str(os.path.dirname(os.path.abspath(''))) # path del la carpeta Segmentacion Semantica Git\n",
    "\n",
    "if ('\\\\' in BASE_PATH) == True:\n",
    "    separator_dir = '\\\\'\n",
    "else:\n",
    "    separator_dir = '/'\n",
    "    \n",
    "    \n",
    "##############################################################################\n",
    "####################  Augmented path ############################\n",
    "##############################################################################\n",
    "\n",
    "# Path de las imagenes, mascaras e imagenes de prueba\n",
    "TRAIN_PATH_IMAGES = BASE_PATH + separator_dir + 'Augmented Train Data' + separator_dir + 'Images'\n",
    "TRAIN_PATH_MASKS = BASE_PATH + separator_dir + 'Augmented Train Data' + separator_dir + 'Masks'"
   ]
  },
  {
   "cell_type": "markdown",
   "id": "broadband-service",
   "metadata": {},
   "source": [
    "## Preprocess the augmented images"
   ]
  },
  {
   "cell_type": "code",
   "execution_count": 57,
   "id": "ruled-somerset",
   "metadata": {},
   "outputs": [
    {
     "name": "stderr",
     "output_type": "stream",
     "text": [
      "  1%|▊                                                                              | 38/3998 [00:00<00:20, 191.00it/s]"
     ]
    },
    {
     "name": "stdout",
     "output_type": "stream",
     "text": [
      "Resizing train images\n"
     ]
    },
    {
     "name": "stderr",
     "output_type": "stream",
     "text": [
      "100%|█████████████████████████████████████████████████████████████████████████████| 3998/3998 [00:16<00:00, 235.72it/s]\n"
     ]
    }
   ],
   "source": [
    "# Se obtienen los Ids de las imagenes aumentadas.\n",
    "Train_images_files = next(os.walk(TRAIN_PATH_IMAGES))[2]\n",
    "Train_masks_files = next(os.walk(TRAIN_PATH_MASKS))[2]\n",
    "\n",
    "\n",
    "\n",
    "# Se declaran los arrays que almacenan las imagenes\n",
    "X_train = np.zeros((len(Train_images_files), IMG_HEIGHT, IMG_WIDTH, IMG_CHANNELS), dtype=np.uint8)\n",
    "Y_train = np.zeros((len(Train_images_files), IMG_HEIGHT, IMG_WIDTH,1), dtype=np.bool)\n",
    "Y_train_class = np.zeros((len(Train_images_files), 1), dtype=np.uint8)\n",
    "\n",
    "\n",
    "# Se inicia el proceso de resizing de las imagenes de entrenamiento y las de prueba\n",
    "print('Resizing images')\n",
    "\n",
    "for n, id_ in tqdm(enumerate(Train_images_files), total=len(Train_images_files)):\n",
    "    path_image = TRAIN_PATH_IMAGES + '\\\\'\n",
    "    path_mask = TRAIN_PATH_MASKS + '\\\\'\n",
    "    img = imread(path_image + Train_images_files[n])[:,:,:IMG_CHANNELS]\n",
    "    X_train[n] = img\n",
    "    \n",
    "    mask = imread(path_mask + Train_masks_files[n])\n",
    "    mask = np.expand_dims(mask, axis=-1)\n",
    "    Y_train[n] = mask\n",
    "    X_train[n] = X_train[n]*Y_train[n]\n",
    "    \n",
    "    name = id_[:5]\n",
    "    if name == 'N_C_F':\n",
    "        Y_train_class[n] = 1\n",
    "    if name == 'N_C_S':\n",
    "        Y_train_class[n] = 2\n",
    "\n",
    "    if name == 'N_C_T':\n",
    "        Y_train_class[n] = 3\n",
    "\n",
    "    if name == 'N_S_S':\n",
    "        Y_train_class[n] = 0\n",
    "Y_train_class = to_categorical(Y_train_class, num_classes=4)       \n",
    "\n",
    "    # if name == 'N_C_F':\n",
    "    #     Y_train_class[n,0] = 1\n",
    "    #     Y_train_class[n,1] = 0\n",
    "    #     Y_train_class[n,2] = 0\n",
    "    #     Y_train_class[n,3] = 0\n",
    "    # if name == 'N_C_S':\n",
    "    #     Y_train_class[n,0] = 0\n",
    "    #     Y_train_class[n,1] = 1\n",
    "    #     Y_train_class[n,2] = 0\n",
    "    #     Y_train_class[n,3] = 0\n",
    "    # if name == 'N_C_T':\n",
    "    #     Y_train_class[n,0] = 0\n",
    "    #     Y_train_class[n,1] = 0\n",
    "    #     Y_train_class[n,2] = 1\n",
    "    #     Y_train_class[n,3] = 0\n",
    "    # if name == 'N_S_S':\n",
    "    #     Y_train_class[n,0] = 0\n",
    "    #     Y_train_class[n,1] = 0\n",
    "    #     Y_train_class[n,2] = 0\n",
    "    #     Y_train_class[n,3] = 1    \n",
    "\n",
    "\n",
    "\n",
    "\n",
    "\n",
    "# Es necesario organizar de forma aleatoria el dataset aumentado para un correcto entrenamiento del modelo\n",
    "index = np.arange(X_train.shape[0])\n",
    "np.random.shuffle(index)\n",
    "\n",
    "\n",
    "X = X_train[index]\n",
    "X_train = []\n",
    "Y = Y_train_class[index]\n",
    "Y_train_class = []"
   ]
  },
  {
   "cell_type": "code",
   "execution_count": 58,
   "id": "adopted-calgary",
   "metadata": {},
   "outputs": [],
   "source": [
    "train_percentage = 0.9\n",
    "X_train = X[0:round(train_percentage*len(X))]\n",
    "Y_train = Y[0:round(train_percentage*len(Y))]\n",
    "X_test = X[round(train_percentage*len(X))::]\n",
    "Y_test = Y[round(train_percentage*len(Y))::]\n",
    "X = []\n",
    "Y = []"
   ]
  },
  {
   "cell_type": "markdown",
   "id": "minor-intervention",
   "metadata": {},
   "source": [
    "## Loading VGG16 for Transfer Learning\n",
    "\n",
    "We need to load the pre-trained model which is the VGG16. VGG16 is a convolutional neural network model proposed by K. Simonyan and A. Zisserman from the University of Oxford in the paper “Very Deep Convolutional Networks for Large-Scale Image Recognition”. More information about this network can be found here: https://neurohive.io/en/popular-networks/vgg16/. The VGG16 layers trainable attribute was set to False because we only wish to train the last layers that will later be added to the network."
   ]
  },
  {
   "cell_type": "code",
   "execution_count": 59,
   "id": "nearby-hacker",
   "metadata": {},
   "outputs": [],
   "source": [
    "pre_trained_model = VGG16(weights='imagenet', include_top=False, input_shape=(200, 200, 3))\n",
    "pre_trained_model.trainable = False\n",
    "\n",
    "#pre_trained_model = InceptionV3(input_shape = (image_size, image_size, 3), include_top = False)\n",
    "#for layer in pre_trained_model.layers:\n",
    "#    layer.trainable = False"
   ]
  },
  {
   "cell_type": "code",
   "execution_count": 60,
   "id": "split-illinois",
   "metadata": {},
   "outputs": [
    {
     "name": "stdout",
     "output_type": "stream",
     "text": [
      "Model: \"vgg16\"\n",
      "_________________________________________________________________\n",
      "Layer (type)                 Output Shape              Param #   \n",
      "=================================================================\n",
      "input_3 (InputLayer)         [(None, 200, 200, 3)]     0         \n",
      "_________________________________________________________________\n",
      "block1_conv1 (Conv2D)        (None, 200, 200, 64)      1792      \n",
      "_________________________________________________________________\n",
      "block1_conv2 (Conv2D)        (None, 200, 200, 64)      36928     \n",
      "_________________________________________________________________\n",
      "block1_pool (MaxPooling2D)   (None, 100, 100, 64)      0         \n",
      "_________________________________________________________________\n",
      "block2_conv1 (Conv2D)        (None, 100, 100, 128)     73856     \n",
      "_________________________________________________________________\n",
      "block2_conv2 (Conv2D)        (None, 100, 100, 128)     147584    \n",
      "_________________________________________________________________\n",
      "block2_pool (MaxPooling2D)   (None, 50, 50, 128)       0         \n",
      "_________________________________________________________________\n",
      "block3_conv1 (Conv2D)        (None, 50, 50, 256)       295168    \n",
      "_________________________________________________________________\n",
      "block3_conv2 (Conv2D)        (None, 50, 50, 256)       590080    \n",
      "_________________________________________________________________\n",
      "block3_conv3 (Conv2D)        (None, 50, 50, 256)       590080    \n",
      "_________________________________________________________________\n",
      "block3_pool (MaxPooling2D)   (None, 25, 25, 256)       0         \n",
      "_________________________________________________________________\n",
      "block4_conv1 (Conv2D)        (None, 25, 25, 512)       1180160   \n",
      "_________________________________________________________________\n",
      "block4_conv2 (Conv2D)        (None, 25, 25, 512)       2359808   \n",
      "_________________________________________________________________\n",
      "block4_conv3 (Conv2D)        (None, 25, 25, 512)       2359808   \n",
      "_________________________________________________________________\n",
      "block4_pool (MaxPooling2D)   (None, 12, 12, 512)       0         \n",
      "_________________________________________________________________\n",
      "block5_conv1 (Conv2D)        (None, 12, 12, 512)       2359808   \n",
      "_________________________________________________________________\n",
      "block5_conv2 (Conv2D)        (None, 12, 12, 512)       2359808   \n",
      "_________________________________________________________________\n",
      "block5_conv3 (Conv2D)        (None, 12, 12, 512)       2359808   \n",
      "_________________________________________________________________\n",
      "block5_pool (MaxPooling2D)   (None, 6, 6, 512)         0         \n",
      "=================================================================\n",
      "Total params: 14,714,688\n",
      "Trainable params: 0\n",
      "Non-trainable params: 14,714,688\n",
      "_________________________________________________________________\n"
     ]
    }
   ],
   "source": [
    "pre_trained_model.summary()"
   ]
  },
  {
   "cell_type": "markdown",
   "id": "personal-aging",
   "metadata": {},
   "source": [
    "## Training Process"
   ]
  },
  {
   "cell_type": "markdown",
   "id": "outstanding-vienna",
   "metadata": {},
   "source": [
    "We added the dense layers needed in order train our model:"
   ]
  },
  {
   "cell_type": "code",
   "execution_count": 69,
   "id": "foster-johnson",
   "metadata": {},
   "outputs": [
    {
     "name": "stdout",
     "output_type": "stream",
     "text": [
      "Model: \"model_12\"\n",
      "_________________________________________________________________\n",
      "Layer (type)                 Output Shape              Param #   \n",
      "=================================================================\n",
      "input_3 (InputLayer)         [(None, 200, 200, 3)]     0         \n",
      "_________________________________________________________________\n",
      "block1_conv1 (Conv2D)        (None, 200, 200, 64)      1792      \n",
      "_________________________________________________________________\n",
      "block1_conv2 (Conv2D)        (None, 200, 200, 64)      36928     \n",
      "_________________________________________________________________\n",
      "block1_pool (MaxPooling2D)   (None, 100, 100, 64)      0         \n",
      "_________________________________________________________________\n",
      "block2_conv1 (Conv2D)        (None, 100, 100, 128)     73856     \n",
      "_________________________________________________________________\n",
      "block2_conv2 (Conv2D)        (None, 100, 100, 128)     147584    \n",
      "_________________________________________________________________\n",
      "block2_pool (MaxPooling2D)   (None, 50, 50, 128)       0         \n",
      "_________________________________________________________________\n",
      "block3_conv1 (Conv2D)        (None, 50, 50, 256)       295168    \n",
      "_________________________________________________________________\n",
      "block3_conv2 (Conv2D)        (None, 50, 50, 256)       590080    \n",
      "_________________________________________________________________\n",
      "block3_conv3 (Conv2D)        (None, 50, 50, 256)       590080    \n",
      "_________________________________________________________________\n",
      "block3_pool (MaxPooling2D)   (None, 25, 25, 256)       0         \n",
      "_________________________________________________________________\n",
      "block4_conv1 (Conv2D)        (None, 25, 25, 512)       1180160   \n",
      "_________________________________________________________________\n",
      "block4_conv2 (Conv2D)        (None, 25, 25, 512)       2359808   \n",
      "_________________________________________________________________\n",
      "block4_conv3 (Conv2D)        (None, 25, 25, 512)       2359808   \n",
      "_________________________________________________________________\n",
      "block4_pool (MaxPooling2D)   (None, 12, 12, 512)       0         \n",
      "_________________________________________________________________\n",
      "block5_conv1 (Conv2D)        (None, 12, 12, 512)       2359808   \n",
      "_________________________________________________________________\n",
      "block5_conv2 (Conv2D)        (None, 12, 12, 512)       2359808   \n",
      "_________________________________________________________________\n",
      "block5_conv3 (Conv2D)        (None, 12, 12, 512)       2359808   \n",
      "_________________________________________________________________\n",
      "block5_pool (MaxPooling2D)   (None, 6, 6, 512)         0         \n",
      "_________________________________________________________________\n",
      "flatten_14 (Flatten)         (None, 18432)             0         \n",
      "_________________________________________________________________\n",
      "dense_26 (Dense)             (None, 512)               9437696   \n",
      "_________________________________________________________________\n",
      "dropout_9 (Dropout)          (None, 512)               0         \n",
      "_________________________________________________________________\n",
      "dense_27 (Dense)             (None, 4)                 2052      \n",
      "=================================================================\n",
      "Total params: 24,154,436\n",
      "Trainable params: 9,439,748\n",
      "Non-trainable params: 14,714,688\n",
      "_________________________________________________________________\n"
     ]
    }
   ],
   "source": [
    "#last_layer = pre_trained_model.get_layer('mixed9')\n",
    "#last_output = last_layer.output\n",
    "\n",
    "last_output = pre_trained_model.output\n",
    "\n",
    "x = tf.keras.layers.Flatten()(last_output)\n",
    "x = tf.keras.layers.Dense(512, activation = 'relu')(x)\n",
    "x = tf.keras.layers.Dropout(0.2)(x)\n",
    "x = tf.keras.layers.Dense(4, activation = 'softmax')(x)\n",
    "\n",
    "\n",
    "\n",
    "model = Model(pre_trained_model.input, x)\n",
    "model.compile(optimizer='adam',\n",
    "             loss='categorical_crossentropy',\n",
    "             metrics=['acc'])\n",
    "model.summary()"
   ]
  },
  {
   "cell_type": "code",
   "execution_count": 70,
   "id": "sorted-energy",
   "metadata": {},
   "outputs": [
    {
     "name": "stdout",
     "output_type": "stream",
     "text": [
      "Epoch 1/10\n",
      "450/450 [==============================] - 31s 68ms/step - loss: 14.2186 - acc: 0.5865 - val_loss: 0.7769 - val_acc: 0.7675\n",
      "Epoch 2/10\n",
      "450/450 [==============================] - 35s 77ms/step - loss: 0.4358 - acc: 0.8551 - val_loss: 0.5874 - val_acc: 0.8100\n",
      "Epoch 3/10\n",
      "450/450 [==============================] - 39s 88ms/step - loss: 0.3847 - acc: 0.8966 - val_loss: 0.9458 - val_acc: 0.7625\n",
      "Epoch 4/10\n",
      "450/450 [==============================] - 38s 85ms/step - loss: 0.2507 - acc: 0.9180 - val_loss: 0.8088 - val_acc: 0.8300\n",
      "Epoch 5/10\n",
      "450/450 [==============================] - 38s 84ms/step - loss: 0.2890 - acc: 0.9348 - val_loss: 1.2567 - val_acc: 0.7925\n",
      "Epoch 6/10\n",
      "450/450 [==============================] - 40s 90ms/step - loss: 0.4987 - acc: 0.9068 - val_loss: 1.3241 - val_acc: 0.7925\n",
      "Epoch 7/10\n",
      "450/450 [==============================] - 39s 86ms/step - loss: 0.2976 - acc: 0.9258 - val_loss: 0.6298 - val_acc: 0.8650\n",
      "Epoch 8/10\n",
      "450/450 [==============================] - 42s 94ms/step - loss: 0.3086 - acc: 0.9386 - val_loss: 1.2978 - val_acc: 0.8375\n",
      "Epoch 9/10\n",
      "450/450 [==============================] - 44s 97ms/step - loss: 0.2524 - acc: 0.9477 - val_loss: 1.4157 - val_acc: 0.8125\n",
      "Epoch 10/10\n",
      "450/450 [==============================] - 47s 105ms/step - loss: 0.3286 - acc: 0.9310 - val_loss: 0.6332 - val_acc: 0.8675\n"
     ]
    }
   ],
   "source": [
    "history = model.fit(X_train,\n",
    "                    Y_train,\n",
    "                    validation_data = (X_test, Y_test),\n",
    "                    batch_size=8,\n",
    "                    epochs=10)"
   ]
  },
  {
   "cell_type": "markdown",
   "id": "passing-international",
   "metadata": {},
   "source": [
    "## Plotting training and validation curves"
   ]
  },
  {
   "cell_type": "code",
   "execution_count": 82,
   "id": "human-fireplace",
   "metadata": {},
   "outputs": [
    {
     "data": {
      "image/png": "[encoded data removed]",
      "text/plain": [
       "<Figure size 432x288 with 1 Axes>"
      ]
     },
     "metadata": {
      "needs_background": "light"
     },
     "output_type": "display_data"
    },
    {
     "data": {
      "image/png": "[encoded data removed]",
      "text/plain": [
       "<Figure size 432x288 with 1 Axes>"
      ]
     },
     "metadata": {
      "needs_background": "light"
     },
     "output_type": "display_data"
    }
   ],
   "source": [
    "def plot(history):\n",
    "    acc = history.history['acc']\n",
    "    acc_validation = history.history['val_acc']\n",
    "    loss = history.history['loss']\n",
    "    loss_validation = history.history['val_loss']\n",
    "    epochs = range(len(acc))\n",
    "    \n",
    "    plt.plot(epochs, acc, 'b', label = 'Training accuracy')\n",
    "    plt.plot(epochs, acc_validation, 'r', label = 'Validation accuracy')\n",
    "    plt.title('Training and validation accuracy')\n",
    "    plt.legend(loc='best')\n",
    "    plt.xlabel('Epochs')\n",
    "    plt.ylabel('Accuracy')\n",
    "    \n",
    "    plt.figure()\n",
    "    \n",
    "    plt.plot(epochs, loss, 'b', label = 'Training Loss')\n",
    "    plt.plot(epochs, loss_validation, 'r', label = 'Validation loss')\n",
    "    plt.title('Training and validation loss')\n",
    "    plt.legend(loc='best')\n",
    "    plt.xlabel('Epochs')\n",
    "    plt.ylabel('Loss')\n",
    "    plt.show()\n",
    "plot(history)"
   ]
  },
  {
   "cell_type": "markdown",
   "id": "attended-origin",
   "metadata": {},
   "source": [
    "## Plot Confussion Matrix"
   ]
  },
  {
   "cell_type": "code",
   "execution_count": 166,
   "id": "limiting-medicaid",
   "metadata": {},
   "outputs": [],
   "source": [
    "def graficarMatrizConfusion(y_true, y_pred):\n",
    "    labels = ['Cracks', 'Shadows', 'Dust', 'WF']\n",
    "\n",
    "    cm = confusion_matrix(y_true, y_pred)\n",
    "    cm = cm.astype('float') #/ cm.sum(axis=1)[:, np.newaxis]  \n",
    "\n",
    "    fig = plt.figure(figsize=(8,8))\n",
    "\n",
    "    ax = sns.heatmap(cm, annot = True, cbar = True);\n",
    "      \n",
    "    ax.xaxis.tick_top()\n",
    "    ax.xaxis.set_label_position('top')\n",
    "    ax.set_xticklabels(labels)\n",
    "    ax.set_yticks([0.5, 1.5, 2.5, 3.5])\n",
    "    ax.set_yticklabels(labels)\n",
    "    plt.xlabel(\"Predicted Class\")\n",
    "    plt.ylabel(\"True Class\")\n",
    "    plt.title(\"Confussion Matrix\")\n",
    "    plt.savefig(str(os.path.dirname(os.path.abspath('')))+ '/img/Confussion_matrix.png')\n",
    "    plt.show()"
   ]
  },
  {
   "cell_type": "code",
   "execution_count": 167,
   "id": "ideal-reason",
   "metadata": {},
   "outputs": [
    {
     "data": {
      "image/png": "[encoded data removed]",
      "text/plain": [
       "<Figure size 576x576 with 2 Axes>"
      ]
     },
     "metadata": {
      "needs_background": "light"
     },
     "output_type": "display_data"
    }
   ],
   "source": [
    "graficarMatrizConfusion(y_true = np.argmax(Y_test, axis = 1), y_pred = np.argmax(model.predict(X_test),axis=1))"
   ]
  },
  {
   "cell_type": "markdown",
   "id": "sonic-thumb",
   "metadata": {},
   "source": [
    "## Save Created Model"
   ]
  },
  {
   "cell_type": "code",
   "execution_count": 168,
   "id": "refined-charles",
   "metadata": {},
   "outputs": [],
   "source": [
    "models_folder = os.path.dirname(os.path.dirname(os.path.abspath(''))) + \"/models\"\n",
    "model.save(models_folder + '/transfer_learning_quat_classification_model.h5')"
   ]
  }
 ],
 "metadata": {
  "kernelspec": {
   "display_name": "Python 3",
   "language": "python",
   "name": "python3"
  },
  "language_info": {
   "codemirror_mode": {
    "name": "ipython",
    "version": 3
   },
   "file_extension": ".py",
   "mimetype": "text/x-python",
   "name": "python",
   "nbconvert_exporter": "python",
   "pygments_lexer": "ipython3",
   "version": "3.8.5"
  }
 },
 "nbformat": 4,
 "nbformat_minor": 5
}
